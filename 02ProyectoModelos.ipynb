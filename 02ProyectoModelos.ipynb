{
 "cells": [
  {
   "cell_type": "markdown",
   "id": "399c8a66-5632-4e93-854c-4ee2432f1794",
   "metadata": {},
   "source": [
    "**Librerias**"
   ]
  },
  {
   "cell_type": "code",
   "execution_count": 1,
   "id": "1d50b7a3-0197-4332-96c3-80270690ac48",
   "metadata": {},
   "outputs": [],
   "source": [
    "import pandas as pd\n",
    "import numpy as np\n",
    "import seaborn as sns\n",
    "from sklearn import metrics\n",
    "import matplotlib.pyplot as plt\n",
    "from sklearn.preprocessing import OneHotEncoder\n",
    "from sklearn.model_selection import cross_val_score \n",
    "from sklearn.model_selection import train_test_split\n",
    "from sklearn.ensemble import RandomForestClassifier\n",
    "from sklearn.linear_model import LogisticRegressionCV\n",
    "from xgboost import XGBClassifier\n",
    "from sklearn.model_selection import ShuffleSplit\n",
    "from sklearn.metrics import classification_report, confusion_matrix\n",
    "from sklearn.preprocessing import StandardScaler, RobustScaler\n",
    "from sklearn.metrics import make_scorer, accuracy_score, roc_auc_score "
   ]
  },
  {
   "cell_type": "markdown",
   "id": "578a3ba3-627c-4d9d-aa0b-006b888db5ee",
   "metadata": {},
   "source": [
    "**Cargar DatasetProcesado**"
   ]
  },
  {
   "cell_type": "code",
   "execution_count": 2,
   "id": "5155399b-4fe0-4628-8fe2-e86636b8aded",
   "metadata": {},
   "outputs": [
    {
     "data": {
      "text/html": [
       "<div>\n",
       "<style scoped>\n",
       "    .dataframe tbody tr th:only-of-type {\n",
       "        vertical-align: middle;\n",
       "    }\n",
       "\n",
       "    .dataframe tbody tr th {\n",
       "        vertical-align: top;\n",
       "    }\n",
       "\n",
       "    .dataframe thead th {\n",
       "        text-align: right;\n",
       "    }\n",
       "</style>\n",
       "<table border=\"1\" class=\"dataframe\">\n",
       "  <thead>\n",
       "    <tr style=\"text-align: right;\">\n",
       "      <th></th>\n",
       "      <th>popularity</th>\n",
       "      <th>acousticness</th>\n",
       "      <th>danceability</th>\n",
       "      <th>duration_ms</th>\n",
       "      <th>energy</th>\n",
       "      <th>instrumentalness</th>\n",
       "      <th>liveness</th>\n",
       "      <th>loudness</th>\n",
       "      <th>speechiness</th>\n",
       "      <th>tempo</th>\n",
       "      <th>...</th>\n",
       "      <th>key_F#</th>\n",
       "      <th>key_G</th>\n",
       "      <th>key_G#</th>\n",
       "      <th>mode_Major</th>\n",
       "      <th>mode_Minor</th>\n",
       "      <th>time_signature_0/4</th>\n",
       "      <th>time_signature_1/4</th>\n",
       "      <th>time_signature_3/4</th>\n",
       "      <th>time_signature_4/4</th>\n",
       "      <th>time_signature_5/4</th>\n",
       "    </tr>\n",
       "  </thead>\n",
       "  <tbody>\n",
       "    <tr>\n",
       "      <th>0</th>\n",
       "      <td>0</td>\n",
       "      <td>0.986</td>\n",
       "      <td>0.313</td>\n",
       "      <td>490867</td>\n",
       "      <td>0.23100</td>\n",
       "      <td>0.000431</td>\n",
       "      <td>0.0964</td>\n",
       "      <td>-14.287</td>\n",
       "      <td>0.0547</td>\n",
       "      <td>86.001</td>\n",
       "      <td>...</td>\n",
       "      <td>0.0</td>\n",
       "      <td>0.0</td>\n",
       "      <td>0.0</td>\n",
       "      <td>1.0</td>\n",
       "      <td>0.0</td>\n",
       "      <td>0.0</td>\n",
       "      <td>0.0</td>\n",
       "      <td>0.0</td>\n",
       "      <td>1.0</td>\n",
       "      <td>0.0</td>\n",
       "    </tr>\n",
       "    <tr>\n",
       "      <th>1</th>\n",
       "      <td>0</td>\n",
       "      <td>0.972</td>\n",
       "      <td>0.360</td>\n",
       "      <td>176797</td>\n",
       "      <td>0.20100</td>\n",
       "      <td>0.028000</td>\n",
       "      <td>0.1330</td>\n",
       "      <td>-19.794</td>\n",
       "      <td>0.0581</td>\n",
       "      <td>131.798</td>\n",
       "      <td>...</td>\n",
       "      <td>0.0</td>\n",
       "      <td>0.0</td>\n",
       "      <td>0.0</td>\n",
       "      <td>1.0</td>\n",
       "      <td>0.0</td>\n",
       "      <td>0.0</td>\n",
       "      <td>0.0</td>\n",
       "      <td>0.0</td>\n",
       "      <td>1.0</td>\n",
       "      <td>0.0</td>\n",
       "    </tr>\n",
       "    <tr>\n",
       "      <th>2</th>\n",
       "      <td>0</td>\n",
       "      <td>0.935</td>\n",
       "      <td>0.168</td>\n",
       "      <td>266184</td>\n",
       "      <td>0.47000</td>\n",
       "      <td>0.020400</td>\n",
       "      <td>0.3630</td>\n",
       "      <td>-8.415</td>\n",
       "      <td>0.0383</td>\n",
       "      <td>75.126</td>\n",
       "      <td>...</td>\n",
       "      <td>0.0</td>\n",
       "      <td>0.0</td>\n",
       "      <td>0.0</td>\n",
       "      <td>1.0</td>\n",
       "      <td>0.0</td>\n",
       "      <td>0.0</td>\n",
       "      <td>0.0</td>\n",
       "      <td>1.0</td>\n",
       "      <td>0.0</td>\n",
       "      <td>0.0</td>\n",
       "    </tr>\n",
       "    <tr>\n",
       "      <th>3</th>\n",
       "      <td>0</td>\n",
       "      <td>0.961</td>\n",
       "      <td>0.250</td>\n",
       "      <td>288573</td>\n",
       "      <td>0.00605</td>\n",
       "      <td>0.000000</td>\n",
       "      <td>0.1200</td>\n",
       "      <td>-33.440</td>\n",
       "      <td>0.0480</td>\n",
       "      <td>76.493</td>\n",
       "      <td>...</td>\n",
       "      <td>0.0</td>\n",
       "      <td>0.0</td>\n",
       "      <td>0.0</td>\n",
       "      <td>1.0</td>\n",
       "      <td>0.0</td>\n",
       "      <td>0.0</td>\n",
       "      <td>0.0</td>\n",
       "      <td>0.0</td>\n",
       "      <td>1.0</td>\n",
       "      <td>0.0</td>\n",
       "    </tr>\n",
       "    <tr>\n",
       "      <th>4</th>\n",
       "      <td>0</td>\n",
       "      <td>0.985</td>\n",
       "      <td>0.142</td>\n",
       "      <td>629760</td>\n",
       "      <td>0.05800</td>\n",
       "      <td>0.146000</td>\n",
       "      <td>0.0969</td>\n",
       "      <td>-23.625</td>\n",
       "      <td>0.0493</td>\n",
       "      <td>172.935</td>\n",
       "      <td>...</td>\n",
       "      <td>0.0</td>\n",
       "      <td>0.0</td>\n",
       "      <td>0.0</td>\n",
       "      <td>1.0</td>\n",
       "      <td>0.0</td>\n",
       "      <td>0.0</td>\n",
       "      <td>0.0</td>\n",
       "      <td>0.0</td>\n",
       "      <td>1.0</td>\n",
       "      <td>0.0</td>\n",
       "    </tr>\n",
       "  </tbody>\n",
       "</table>\n",
       "<p>5 rows × 56 columns</p>\n",
       "</div>"
      ],
      "text/plain": [
       "   popularity  acousticness  danceability  duration_ms   energy  \\\n",
       "0           0         0.986         0.313       490867  0.23100   \n",
       "1           0         0.972         0.360       176797  0.20100   \n",
       "2           0         0.935         0.168       266184  0.47000   \n",
       "3           0         0.961         0.250       288573  0.00605   \n",
       "4           0         0.985         0.142       629760  0.05800   \n",
       "\n",
       "   instrumentalness  liveness  loudness  speechiness    tempo  ...  key_F#  \\\n",
       "0          0.000431    0.0964   -14.287       0.0547   86.001  ...     0.0   \n",
       "1          0.028000    0.1330   -19.794       0.0581  131.798  ...     0.0   \n",
       "2          0.020400    0.3630    -8.415       0.0383   75.126  ...     0.0   \n",
       "3          0.000000    0.1200   -33.440       0.0480   76.493  ...     0.0   \n",
       "4          0.146000    0.0969   -23.625       0.0493  172.935  ...     0.0   \n",
       "\n",
       "   key_G  key_G#  mode_Major  mode_Minor  time_signature_0/4  \\\n",
       "0    0.0     0.0         1.0         0.0                 0.0   \n",
       "1    0.0     0.0         1.0         0.0                 0.0   \n",
       "2    0.0     0.0         1.0         0.0                 0.0   \n",
       "3    0.0     0.0         1.0         0.0                 0.0   \n",
       "4    0.0     0.0         1.0         0.0                 0.0   \n",
       "\n",
       "   time_signature_1/4  time_signature_3/4  time_signature_4/4  \\\n",
       "0                 0.0                 0.0                 1.0   \n",
       "1                 0.0                 0.0                 1.0   \n",
       "2                 0.0                 1.0                 0.0   \n",
       "3                 0.0                 0.0                 1.0   \n",
       "4                 0.0                 0.0                 1.0   \n",
       "\n",
       "   time_signature_5/4  \n",
       "0                 0.0  \n",
       "1                 0.0  \n",
       "2                 0.0  \n",
       "3                 0.0  \n",
       "4                 0.0  \n",
       "\n",
       "[5 rows x 56 columns]"
      ]
     },
     "execution_count": 2,
     "metadata": {},
     "output_type": "execute_result"
    }
   ],
   "source": [
    "df_ohe = pd.read_csv('data-Clean.csv')\n",
    "df_ohe.head()"
   ]
  },
  {
   "cell_type": "markdown",
   "id": "74954623-ed68-4822-814e-a135fe313530",
   "metadata": {},
   "source": [
    "**Hallar X,Y**"
   ]
  },
  {
   "cell_type": "code",
   "execution_count": 3,
   "id": "42e3ba1d-56a3-4348-8bc1-585e2c394805",
   "metadata": {},
   "outputs": [],
   "source": [
    "#Se dividen los datos en conjuntos de entrenamiento y prueba para poder medir el rendimiento\n",
    "y=df_ohe['popularity']\n",
    "X=df_ohe.drop('popularity',axis=1)"
   ]
  },
  {
   "cell_type": "markdown",
   "id": "336a0c19-8867-489f-85ed-bbb5eb473b50",
   "metadata": {},
   "source": [
    "**Dividir traning and testing**"
   ]
  },
  {
   "cell_type": "code",
   "execution_count": 4,
   "id": "46c21ea6-6e05-4e40-b28d-81694cbe363a",
   "metadata": {},
   "outputs": [],
   "source": [
    "X_train, X_test, y_train, y_test = train_test_split(X, y, test_size=0.30, random_state=42)"
   ]
  },
  {
   "cell_type": "markdown",
   "id": "e4f6de7b-0588-41a7-9bb4-48b2a3cfbc45",
   "metadata": {},
   "source": [
    "**Normalización**\n",
    "\n",
    "Uno de los más recomendado para reducir reducir los efectos de los valores atípicos, en relación con MinMaxScaler."
   ]
  },
  {
   "cell_type": "code",
   "execution_count": 5,
   "id": "78e00d69-633d-41e9-9680-f8272ef8b17e",
   "metadata": {},
   "outputs": [],
   "source": [
    "sc = RobustScaler()\n",
    "# transformar los conjuntos de entrenamiento y prueba\n",
    "X_train_scaled = sc.fit_transform(X_train)\n",
    "X_test_scaled = sc.transform(X_test)"
   ]
  },
  {
   "cell_type": "code",
   "execution_count": 6,
   "id": "b144a3de-fff2-40a6-832c-2981852ef0bb",
   "metadata": {},
   "outputs": [
    {
     "name": "stdout",
     "output_type": "stream",
     "text": [
      "Datos escalados \n",
      " [[-0.26219049 -0.98809524  0.40363424 ...  0.          0.\n",
      "   0.        ]\n",
      " [ 1.01473492 -0.03968254 -0.01896012 ...  0.          0.\n",
      "   0.        ]\n",
      " [-0.23499924  0.49603175 -0.06293742 ...  0.          0.\n",
      "   0.        ]\n",
      " ...\n",
      " [-0.28269786 -0.04761905 -0.46522281 ...  0.          0.\n",
      "   0.        ]\n",
      " [-0.26370955  0.43253968  1.01977451 ...  0.          0.\n",
      "   0.        ]\n",
      " [ 0.85371411 -0.1547619   0.10943425 ...  0.          0.\n",
      "   0.        ]]\n",
      "Datos escalados \n",
      " [[-0.06683883 -0.22222222 -0.75687782 ...  0.          0.\n",
      "   0.        ]\n",
      " [ 0.80510406 -0.32142857  0.77147329 ...  0.          0.\n",
      "   0.        ]\n",
      " [ 0.40407109 -0.17857143 -0.06153768 ...  0.          0.\n",
      "   0.        ]\n",
      " ...\n",
      " [ 0.65775482  0.19047619  0.00374112 ...  0.          0.\n",
      "   0.        ]\n",
      " [-0.30346347  0.28968254 -0.12757998 ...  0.          0.\n",
      "   0.        ]\n",
      " [ 1.11955036 -0.37698413  0.4092332  ...  0.          0.\n",
      "   0.        ]]\n"
     ]
    }
   ],
   "source": [
    "print(\"Datos escalados \\n\", X_train_scaled)\n",
    "print(\"Datos escalados \\n\", X_test_scaled )"
   ]
  },
  {
   "cell_type": "markdown",
   "id": "2d0ea25d-4482-4321-95dc-fc5fe6c881f7",
   "metadata": {},
   "source": [
    "## Modelo Random Forest"
   ]
  },
  {
   "cell_type": "markdown",
   "id": "6dac124b-4b7c-4fd5-baa0-7bfcd38c89a3",
   "metadata": {},
   "source": [
    "Modelo Inicial"
   ]
  },
  {
   "cell_type": "code",
   "execution_count": 7,
   "id": "78db2cba-f7f4-470e-b74c-abc928b73a70",
   "metadata": {},
   "outputs": [
    {
     "name": "stdout",
     "output_type": "stream",
     "text": [
      "              precision    recall  f1-score   support\n",
      "\n",
      "           0       0.88      0.94      0.91     51306\n",
      "           1       0.77      0.62      0.69     17142\n",
      "\n",
      "    accuracy                           0.86     68448\n",
      "   macro avg       0.83      0.78      0.80     68448\n",
      "weighted avg       0.85      0.86      0.85     68448\n",
      "\n"
     ]
    }
   ],
   "source": [
    "clf_rf = RandomForestClassifier(random_state=42)\n",
    "clf_rf.fit(X_train, y_train)\n",
    "pred = clf_rf.predict(X_test) \n",
    "\n",
    "# print prediction results\n",
    "print(classification_report(y_test, pred))"
   ]
  },
  {
   "cell_type": "markdown",
   "id": "11d624e5-b056-4e6c-b1c8-48f27eea7824",
   "metadata": {},
   "source": [
    "**Hyperparameter Tuning**"
   ]
  },
  {
   "cell_type": "code",
   "execution_count": 8,
   "id": "219a8f6a-4ca5-4c0d-9a25-d7b8798147f9",
   "metadata": {},
   "outputs": [
    {
     "name": "stdout",
     "output_type": "stream",
     "text": [
      "              precision    recall  f1-score   support\n",
      "\n",
      "           0       0.92      0.92      0.92     51306\n",
      "           1       0.75      0.77      0.76     17142\n",
      "\n",
      "    accuracy                           0.88     68448\n",
      "   macro avg       0.84      0.84      0.84     68448\n",
      "weighted avg       0.88      0.88      0.88     68448\n",
      "\n"
     ]
    }
   ],
   "source": [
    "clf_rf_tuned = RandomForestClassifier(n_estimators=100, criterion='entropy', max_depth=None, \n",
    "                                      min_samples_leaf=2, class_weight='balanced', \n",
    "                                      random_state=42)\n",
    "clf_rf_tuned.fit(X_train, y_train)\n",
    "\n",
    "pred = clf_rf_tuned.predict(X_test)\n",
    "print(classification_report(y_test, pred))"
   ]
  },
  {
   "cell_type": "markdown",
   "id": "d15e3cfd-adb4-4872-9b4f-d6f0b1a9f4f0",
   "metadata": {},
   "source": [
    "Ajustar los hiperparámetros del modelo mejoró la puntuación del acuracy para predecir canciones populares en un 2 %"
   ]
  },
  {
   "cell_type": "markdown",
   "id": "77d54df5-fa30-45cc-aa0f-625eeae9d0fb",
   "metadata": {},
   "source": [
    "**Métricas de rendimiento de Random Forest**"
   ]
  },
  {
   "cell_type": "code",
   "execution_count": 9,
   "id": "e941ca5a-af1a-4f16-a6c6-25fc04ddf801",
   "metadata": {},
   "outputs": [
    {
     "name": "stdout",
     "output_type": "stream",
     "text": [
      "accuracy:0.8786670172978027\n",
      "Precision: 0.7531946593318435\n",
      "Recall: 0.7667716719169292\n",
      "AUC-RF: 0.8414121876522235\n"
     ]
    }
   ],
   "source": [
    "# Model Precision: what percentage of positive tuples are labeled as such?\n",
    "accuracyRF = metrics.accuracy_score(y_test, pred)\n",
    "print(\"accuracy:\" + str(accuracyRF))\n",
    "print(\"Precision:\", metrics.precision_score(y_test, pred))\n",
    "print(\"Recall:\", metrics.recall_score(y_test, pred))\n",
    "RFC_AUC = roc_auc_score(y_test, pred) \n",
    "print(\"AUC-RF: \" + str(RFC_AUC))"
   ]
  },
  {
   "cell_type": "code",
   "execution_count": 10,
   "id": "b8ee91dd-02dc-424d-a0dc-32dbae31ac23",
   "metadata": {},
   "outputs": [
    {
     "data": {
      "image/png": "[encoded data removed]",
      "text/plain": [
       "<Figure size 432x288 with 2 Axes>"
      ]
     },
     "metadata": {
      "needs_background": "light"
     },
     "output_type": "display_data"
    }
   ],
   "source": [
    "#Matrix de consufion\n",
    "confusion_matrix = pd.crosstab(y_test, pred, rownames=['Actual'], colnames=['Predicted'])\n",
    "sns.heatmap(confusion_matrix, annot=True)\n",
    "plt.show()"
   ]
  },
  {
   "cell_type": "code",
   "execution_count": 11,
   "id": "f27ef63d-3571-4271-ad9a-d1c4a9b9826c",
   "metadata": {},
   "outputs": [
    {
     "name": "stdout",
     "output_type": "stream",
     "text": [
      "Predicted      0      1\n",
      "Actual                 \n",
      "0          46999   4307\n",
      "1           3998  13144\n"
     ]
    }
   ],
   "source": [
    "print(confusion_matrix)"
   ]
  },
  {
   "cell_type": "markdown",
   "id": "3988163f-9353-4e7d-be3a-5903be460046",
   "metadata": {},
   "source": [
    "**Features Importace**\n",
    "\n",
    "Se observa la importancia de las características del modelo y verificar en que atributos se basaron"
   ]
  },
  {
   "cell_type": "code",
   "execution_count": 12,
   "id": "6609bf3d-70a8-4696-9d24-f1939e1f1a11",
   "metadata": {},
   "outputs": [
    {
     "data": {
      "text/html": [
       "<div>\n",
       "<style scoped>\n",
       "    .dataframe tbody tr th:only-of-type {\n",
       "        vertical-align: middle;\n",
       "    }\n",
       "\n",
       "    .dataframe tbody tr th {\n",
       "        vertical-align: top;\n",
       "    }\n",
       "\n",
       "    .dataframe thead th {\n",
       "        text-align: right;\n",
       "    }\n",
       "</style>\n",
       "<table border=\"1\" class=\"dataframe\">\n",
       "  <thead>\n",
       "    <tr style=\"text-align: right;\">\n",
       "      <th></th>\n",
       "      <th>Atributo</th>\n",
       "      <th>Importancia</th>\n",
       "    </tr>\n",
       "  </thead>\n",
       "  <tbody>\n",
       "    <tr>\n",
       "      <th>0</th>\n",
       "      <td>loudness</td>\n",
       "      <td>0.085371</td>\n",
       "    </tr>\n",
       "    <tr>\n",
       "      <th>1</th>\n",
       "      <td>genre_Pop</td>\n",
       "      <td>0.070061</td>\n",
       "    </tr>\n",
       "    <tr>\n",
       "      <th>2</th>\n",
       "      <td>acousticness</td>\n",
       "      <td>0.069994</td>\n",
       "    </tr>\n",
       "    <tr>\n",
       "      <th>3</th>\n",
       "      <td>speechiness</td>\n",
       "      <td>0.064803</td>\n",
       "    </tr>\n",
       "    <tr>\n",
       "      <th>4</th>\n",
       "      <td>energy</td>\n",
       "      <td>0.064672</td>\n",
       "    </tr>\n",
       "    <tr>\n",
       "      <th>5</th>\n",
       "      <td>danceability</td>\n",
       "      <td>0.062689</td>\n",
       "    </tr>\n",
       "    <tr>\n",
       "      <th>6</th>\n",
       "      <td>duration_ms</td>\n",
       "      <td>0.058774</td>\n",
       "    </tr>\n",
       "    <tr>\n",
       "      <th>7</th>\n",
       "      <td>instrumentalness</td>\n",
       "      <td>0.058654</td>\n",
       "    </tr>\n",
       "    <tr>\n",
       "      <th>8</th>\n",
       "      <td>valence</td>\n",
       "      <td>0.057262</td>\n",
       "    </tr>\n",
       "    <tr>\n",
       "      <th>9</th>\n",
       "      <td>liveness</td>\n",
       "      <td>0.056878</td>\n",
       "    </tr>\n",
       "    <tr>\n",
       "      <th>10</th>\n",
       "      <td>tempo</td>\n",
       "      <td>0.054324</td>\n",
       "    </tr>\n",
       "    <tr>\n",
       "      <th>11</th>\n",
       "      <td>genre_Ska</td>\n",
       "      <td>0.025054</td>\n",
       "    </tr>\n",
       "    <tr>\n",
       "      <th>12</th>\n",
       "      <td>genre_Rock</td>\n",
       "      <td>0.021499</td>\n",
       "    </tr>\n",
       "    <tr>\n",
       "      <th>13</th>\n",
       "      <td>genre_Reggae</td>\n",
       "      <td>0.018855</td>\n",
       "    </tr>\n",
       "    <tr>\n",
       "      <th>14</th>\n",
       "      <td>genre_Rap</td>\n",
       "      <td>0.017615</td>\n",
       "    </tr>\n",
       "    <tr>\n",
       "      <th>15</th>\n",
       "      <td>genre_World</td>\n",
       "      <td>0.016483</td>\n",
       "    </tr>\n",
       "    <tr>\n",
       "      <th>16</th>\n",
       "      <td>genre_Electronic</td>\n",
       "      <td>0.015946</td>\n",
       "    </tr>\n",
       "    <tr>\n",
       "      <th>17</th>\n",
       "      <td>genre_Comedy</td>\n",
       "      <td>0.015053</td>\n",
       "    </tr>\n",
       "    <tr>\n",
       "      <th>18</th>\n",
       "      <td>genre_Movie</td>\n",
       "      <td>0.014970</td>\n",
       "    </tr>\n",
       "    <tr>\n",
       "      <th>19</th>\n",
       "      <td>genre_Jazz</td>\n",
       "      <td>0.012328</td>\n",
       "    </tr>\n",
       "    <tr>\n",
       "      <th>20</th>\n",
       "      <td>genre_Reggaeton</td>\n",
       "      <td>0.010508</td>\n",
       "    </tr>\n",
       "    <tr>\n",
       "      <th>21</th>\n",
       "      <td>genre_Opera</td>\n",
       "      <td>0.008412</td>\n",
       "    </tr>\n",
       "    <tr>\n",
       "      <th>22</th>\n",
       "      <td>genre_Hip-Hop</td>\n",
       "      <td>0.008177</td>\n",
       "    </tr>\n",
       "    <tr>\n",
       "      <th>23</th>\n",
       "      <td>genre_Dance</td>\n",
       "      <td>0.006831</td>\n",
       "    </tr>\n",
       "    <tr>\n",
       "      <th>24</th>\n",
       "      <td>genre_Country</td>\n",
       "      <td>0.006602</td>\n",
       "    </tr>\n",
       "    <tr>\n",
       "      <th>25</th>\n",
       "      <td>genre_Classical</td>\n",
       "      <td>0.006569</td>\n",
       "    </tr>\n",
       "    <tr>\n",
       "      <th>26</th>\n",
       "      <td>genre_Soundtrack</td>\n",
       "      <td>0.005867</td>\n",
       "    </tr>\n",
       "    <tr>\n",
       "      <th>27</th>\n",
       "      <td>genre_Soul</td>\n",
       "      <td>0.005380</td>\n",
       "    </tr>\n",
       "    <tr>\n",
       "      <th>28</th>\n",
       "      <td>genre_Indie</td>\n",
       "      <td>0.005276</td>\n",
       "    </tr>\n",
       "    <tr>\n",
       "      <th>29</th>\n",
       "      <td>mode_Major</td>\n",
       "      <td>0.005106</td>\n",
       "    </tr>\n",
       "    <tr>\n",
       "      <th>30</th>\n",
       "      <td>mode_Minor</td>\n",
       "      <td>0.004988</td>\n",
       "    </tr>\n",
       "    <tr>\n",
       "      <th>31</th>\n",
       "      <td>key_C</td>\n",
       "      <td>0.004359</td>\n",
       "    </tr>\n",
       "    <tr>\n",
       "      <th>32</th>\n",
       "      <td>key_G</td>\n",
       "      <td>0.004298</td>\n",
       "    </tr>\n",
       "    <tr>\n",
       "      <th>33</th>\n",
       "      <td>key_C#</td>\n",
       "      <td>0.004070</td>\n",
       "    </tr>\n",
       "    <tr>\n",
       "      <th>34</th>\n",
       "      <td>key_A</td>\n",
       "      <td>0.004059</td>\n",
       "    </tr>\n",
       "    <tr>\n",
       "      <th>35</th>\n",
       "      <td>key_D</td>\n",
       "      <td>0.003882</td>\n",
       "    </tr>\n",
       "    <tr>\n",
       "      <th>36</th>\n",
       "      <td>key_B</td>\n",
       "      <td>0.003669</td>\n",
       "    </tr>\n",
       "    <tr>\n",
       "      <th>37</th>\n",
       "      <td>key_F</td>\n",
       "      <td>0.003554</td>\n",
       "    </tr>\n",
       "    <tr>\n",
       "      <th>38</th>\n",
       "      <td>key_E</td>\n",
       "      <td>0.003546</td>\n",
       "    </tr>\n",
       "    <tr>\n",
       "      <th>39</th>\n",
       "      <td>key_G#</td>\n",
       "      <td>0.003272</td>\n",
       "    </tr>\n",
       "    <tr>\n",
       "      <th>40</th>\n",
       "      <td>key_F#</td>\n",
       "      <td>0.003261</td>\n",
       "    </tr>\n",
       "    <tr>\n",
       "      <th>41</th>\n",
       "      <td>genre_Folk</td>\n",
       "      <td>0.003203</td>\n",
       "    </tr>\n",
       "    <tr>\n",
       "      <th>42</th>\n",
       "      <td>time_signature_4/4</td>\n",
       "      <td>0.003056</td>\n",
       "    </tr>\n",
       "    <tr>\n",
       "      <th>43</th>\n",
       "      <td>key_A#</td>\n",
       "      <td>0.002965</td>\n",
       "    </tr>\n",
       "    <tr>\n",
       "      <th>44</th>\n",
       "      <td>genre_Anime</td>\n",
       "      <td>0.002743</td>\n",
       "    </tr>\n",
       "    <tr>\n",
       "      <th>45</th>\n",
       "      <td>genre_Alternative</td>\n",
       "      <td>0.002711</td>\n",
       "    </tr>\n",
       "    <tr>\n",
       "      <th>46</th>\n",
       "      <td>genre_Children’s Music</td>\n",
       "      <td>0.002619</td>\n",
       "    </tr>\n",
       "    <tr>\n",
       "      <th>47</th>\n",
       "      <td>genre_Blues</td>\n",
       "      <td>0.002457</td>\n",
       "    </tr>\n",
       "    <tr>\n",
       "      <th>48</th>\n",
       "      <td>genre_R&amp;B</td>\n",
       "      <td>0.002321</td>\n",
       "    </tr>\n",
       "    <tr>\n",
       "      <th>49</th>\n",
       "      <td>time_signature_3/4</td>\n",
       "      <td>0.002146</td>\n",
       "    </tr>\n",
       "    <tr>\n",
       "      <th>50</th>\n",
       "      <td>key_D#</td>\n",
       "      <td>0.001754</td>\n",
       "    </tr>\n",
       "    <tr>\n",
       "      <th>51</th>\n",
       "      <td>time_signature_5/4</td>\n",
       "      <td>0.000710</td>\n",
       "    </tr>\n",
       "    <tr>\n",
       "      <th>52</th>\n",
       "      <td>time_signature_1/4</td>\n",
       "      <td>0.000277</td>\n",
       "    </tr>\n",
       "    <tr>\n",
       "      <th>53</th>\n",
       "      <td>genre_A Capella</td>\n",
       "      <td>0.000065</td>\n",
       "    </tr>\n",
       "    <tr>\n",
       "      <th>54</th>\n",
       "      <td>time_signature_0/4</td>\n",
       "      <td>0.000000</td>\n",
       "    </tr>\n",
       "  </tbody>\n",
       "</table>\n",
       "</div>"
      ],
      "text/plain": [
       "                  Atributo  Importancia\n",
       "0                 loudness     0.085371\n",
       "1                genre_Pop     0.070061\n",
       "2             acousticness     0.069994\n",
       "3              speechiness     0.064803\n",
       "4                   energy     0.064672\n",
       "5             danceability     0.062689\n",
       "6              duration_ms     0.058774\n",
       "7         instrumentalness     0.058654\n",
       "8                  valence     0.057262\n",
       "9                 liveness     0.056878\n",
       "10                   tempo     0.054324\n",
       "11               genre_Ska     0.025054\n",
       "12              genre_Rock     0.021499\n",
       "13            genre_Reggae     0.018855\n",
       "14               genre_Rap     0.017615\n",
       "15             genre_World     0.016483\n",
       "16        genre_Electronic     0.015946\n",
       "17            genre_Comedy     0.015053\n",
       "18             genre_Movie     0.014970\n",
       "19              genre_Jazz     0.012328\n",
       "20         genre_Reggaeton     0.010508\n",
       "21             genre_Opera     0.008412\n",
       "22           genre_Hip-Hop     0.008177\n",
       "23             genre_Dance     0.006831\n",
       "24           genre_Country     0.006602\n",
       "25         genre_Classical     0.006569\n",
       "26        genre_Soundtrack     0.005867\n",
       "27              genre_Soul     0.005380\n",
       "28             genre_Indie     0.005276\n",
       "29              mode_Major     0.005106\n",
       "30              mode_Minor     0.004988\n",
       "31                   key_C     0.004359\n",
       "32                   key_G     0.004298\n",
       "33                  key_C#     0.004070\n",
       "34                   key_A     0.004059\n",
       "35                   key_D     0.003882\n",
       "36                   key_B     0.003669\n",
       "37                   key_F     0.003554\n",
       "38                   key_E     0.003546\n",
       "39                  key_G#     0.003272\n",
       "40                  key_F#     0.003261\n",
       "41              genre_Folk     0.003203\n",
       "42      time_signature_4/4     0.003056\n",
       "43                  key_A#     0.002965\n",
       "44             genre_Anime     0.002743\n",
       "45       genre_Alternative     0.002711\n",
       "46  genre_Children’s Music     0.002619\n",
       "47             genre_Blues     0.002457\n",
       "48               genre_R&B     0.002321\n",
       "49      time_signature_3/4     0.002146\n",
       "50                  key_D#     0.001754\n",
       "51      time_signature_5/4     0.000710\n",
       "52      time_signature_1/4     0.000277\n",
       "53         genre_A Capella     0.000065\n",
       "54      time_signature_0/4     0.000000"
      ]
     },
     "execution_count": 12,
     "metadata": {},
     "output_type": "execute_result"
    }
   ],
   "source": [
    "#acceder a los valores de importancia de las características del modelo de bosque aleatorio ajustado y ordenarlos\n",
    "rf_importances_df = pd.Series(clf_rf_tuned.feature_importances_, index=X.columns).sort_values(ascending=False)\n",
    "#analizar la serie en un marco de datos\n",
    "rf_importances_df = rf_importances_df.reset_index()\n",
    "rf_importances_df.columns = ['Atributo', 'Importancia']\n",
    "rf_importances_df"
   ]
  },
  {
   "cell_type": "markdown",
   "id": "340f72c0-e37f-460f-9ef3-435da57095e0",
   "metadata": {},
   "source": [
    "Gráfico de las carácteristicas más relevantes"
   ]
  },
  {
   "cell_type": "code",
   "execution_count": 19,
   "id": "76589f6c-21e5-4d55-9a51-aeac0f89b056",
   "metadata": {},
   "outputs": [
    {
     "data": {
      "text/plain": [
       "<BarContainer object of 55 artists>"
      ]
     },
     "execution_count": 19,
     "metadata": {},
     "output_type": "execute_result"
    },
    {
     "data": {
      "image/png": "[encoded data removed]",
      "text/plain": [
       "<Figure size 720x1080 with 1 Axes>"
      ]
     },
     "metadata": {
      "needs_background": "light"
     },
     "output_type": "display_data"
    }
   ],
   "source": [
    "rf_importances_df = pd.Series(clf_rf_tuned.feature_importances_, index=X.columns).sort_values(ascending=True)\n",
    "#parsing the series to a dataframe\n",
    "rf_importances_df = rf_importances_df.reset_index()\n",
    "rf_importances_df.columns = ['Atributo', 'Importancia']\n",
    "\n",
    "fig, ax = plt.subplots(figsize=(10,15))\n",
    "ax.barh(rf_importances_df['Atributo'], rf_importances_df['Importancia'])"
   ]
  },
  {
   "cell_type": "markdown",
   "id": "f985b7f9-909a-4227-b17b-0fa452800757",
   "metadata": {},
   "source": [
    "Se observa que ciertas características como 'loudness', 'gnre_pop' y 'acusticness' afectaron positivamente la predicción, otras características como 'time_signature_04', 'gnre_Acapella' y 'time_signature_05' la afectaron negativamente."
   ]
  },
  {
   "cell_type": "code",
   "execution_count": 13,
   "id": "bb4b6693-ca3a-4b3b-9c7a-a0bfd97e8a6c",
   "metadata": {},
   "outputs": [
    {
     "data": {
      "text/plain": [
       "Text(0.5, 1.0, 'Feature Importances: Random Forest')"
      ]
     },
     "execution_count": 13,
     "metadata": {},
     "output_type": "execute_result"
    },
    {
     "data": {
      "image/png": "[encoded data removed]",
      "text/plain": [
       "<Figure size 1080x360 with 1 Axes>"
      ]
     },
     "metadata": {
      "needs_background": "light"
     },
     "output_type": "display_data"
    }
   ],
   "source": [
    "#trazando la importancia de las características \n",
    "\n",
    "fig, ax = plt.subplots(figsize=(15,5))\n",
    "\n",
    "rf_importances_df = rf_importances_df.sort_values(by='Importancia', ascending=True).tail(10)\n",
    "ax.barh(rf_importances_df['Atributo'], rf_importances_df['Importancia'])\n",
    "ax.set_title('Feature Importances: Random Forest')\n"
   ]
  },
  {
   "cell_type": "markdown",
   "id": "6370e7fd-02c4-4926-b248-8dc0c7ddbb0c",
   "metadata": {},
   "source": [
    "**Recuento de ocurrencias de Géneros de música populares**"
   ]
  },
  {
   "cell_type": "code",
   "execution_count": 14,
   "id": "cc3b93a4-af2c-497d-b02a-c220680cbf9c",
   "metadata": {},
   "outputs": [],
   "source": [
    "popular_gnre = df_ohe[df_ohe['popularity'] == 1]\n",
    "#unpopular_gnre = df_ohe[df_ohe['popularity']==0]"
   ]
  },
  {
   "cell_type": "code",
   "execution_count": 15,
   "id": "0887922b-52b6-4ed7-9a0a-dc47d26e1d85",
   "metadata": {},
   "outputs": [
    {
     "data": {
      "text/html": [
       "<div>\n",
       "<style scoped>\n",
       "    .dataframe tbody tr th:only-of-type {\n",
       "        vertical-align: middle;\n",
       "    }\n",
       "\n",
       "    .dataframe tbody tr th {\n",
       "        vertical-align: top;\n",
       "    }\n",
       "\n",
       "    .dataframe thead th {\n",
       "        text-align: right;\n",
       "    }\n",
       "</style>\n",
       "<table border=\"1\" class=\"dataframe\">\n",
       "  <thead>\n",
       "    <tr style=\"text-align: right;\">\n",
       "      <th></th>\n",
       "      <th>genre</th>\n",
       "      <th>count</th>\n",
       "    </tr>\n",
       "  </thead>\n",
       "  <tbody>\n",
       "    <tr>\n",
       "      <th>0</th>\n",
       "      <td>genre_Pop</td>\n",
       "      <td>9052.0</td>\n",
       "    </tr>\n",
       "    <tr>\n",
       "      <th>1</th>\n",
       "      <td>genre_Rap</td>\n",
       "      <td>5915.0</td>\n",
       "    </tr>\n",
       "    <tr>\n",
       "      <th>2</th>\n",
       "      <td>genre_Rock</td>\n",
       "      <td>5887.0</td>\n",
       "    </tr>\n",
       "    <tr>\n",
       "      <th>3</th>\n",
       "      <td>genre_Hip-Hop</td>\n",
       "      <td>4891.0</td>\n",
       "    </tr>\n",
       "    <tr>\n",
       "      <th>4</th>\n",
       "      <td>genre_Dance</td>\n",
       "      <td>4418.0</td>\n",
       "    </tr>\n",
       "    <tr>\n",
       "      <th>5</th>\n",
       "      <td>genre_Indie</td>\n",
       "      <td>3538.0</td>\n",
       "    </tr>\n",
       "    <tr>\n",
       "      <th>6</th>\n",
       "      <td>genre_Children’s Music</td>\n",
       "      <td>3405.0</td>\n",
       "    </tr>\n",
       "    <tr>\n",
       "      <th>7</th>\n",
       "      <td>genre_Alternative</td>\n",
       "      <td>3405.0</td>\n",
       "    </tr>\n",
       "    <tr>\n",
       "      <th>8</th>\n",
       "      <td>genre_Blues</td>\n",
       "      <td>3405.0</td>\n",
       "    </tr>\n",
       "    <tr>\n",
       "      <th>9</th>\n",
       "      <td>genre_Anime</td>\n",
       "      <td>3405.0</td>\n",
       "    </tr>\n",
       "    <tr>\n",
       "      <th>10</th>\n",
       "      <td>genre_R&amp;B</td>\n",
       "      <td>2624.0</td>\n",
       "    </tr>\n",
       "    <tr>\n",
       "      <th>11</th>\n",
       "      <td>genre_Folk</td>\n",
       "      <td>1884.0</td>\n",
       "    </tr>\n",
       "    <tr>\n",
       "      <th>12</th>\n",
       "      <td>genre_Soul</td>\n",
       "      <td>1389.0</td>\n",
       "    </tr>\n",
       "    <tr>\n",
       "      <th>13</th>\n",
       "      <td>genre_Country</td>\n",
       "      <td>1198.0</td>\n",
       "    </tr>\n",
       "    <tr>\n",
       "      <th>14</th>\n",
       "      <td>genre_Reggaeton</td>\n",
       "      <td>912.0</td>\n",
       "    </tr>\n",
       "    <tr>\n",
       "      <th>15</th>\n",
       "      <td>genre_Jazz</td>\n",
       "      <td>461.0</td>\n",
       "    </tr>\n",
       "    <tr>\n",
       "      <th>16</th>\n",
       "      <td>genre_Electronic</td>\n",
       "      <td>389.0</td>\n",
       "    </tr>\n",
       "    <tr>\n",
       "      <th>17</th>\n",
       "      <td>genre_Reggae</td>\n",
       "      <td>359.0</td>\n",
       "    </tr>\n",
       "    <tr>\n",
       "      <th>18</th>\n",
       "      <td>genre_Ska</td>\n",
       "      <td>135.0</td>\n",
       "    </tr>\n",
       "    <tr>\n",
       "      <th>19</th>\n",
       "      <td>genre_Soundtrack</td>\n",
       "      <td>123.0</td>\n",
       "    </tr>\n",
       "    <tr>\n",
       "      <th>20</th>\n",
       "      <td>genre_Classical</td>\n",
       "      <td>102.0</td>\n",
       "    </tr>\n",
       "    <tr>\n",
       "      <th>21</th>\n",
       "      <td>genre_Movie</td>\n",
       "      <td>72.0</td>\n",
       "    </tr>\n",
       "    <tr>\n",
       "      <th>22</th>\n",
       "      <td>genre_Opera</td>\n",
       "      <td>3.0</td>\n",
       "    </tr>\n",
       "    <tr>\n",
       "      <th>23</th>\n",
       "      <td>genre_Comedy</td>\n",
       "      <td>1.0</td>\n",
       "    </tr>\n",
       "    <tr>\n",
       "      <th>24</th>\n",
       "      <td>genre_A Capella</td>\n",
       "      <td>0.0</td>\n",
       "    </tr>\n",
       "  </tbody>\n",
       "</table>\n",
       "</div>"
      ],
      "text/plain": [
       "                     genre   count\n",
       "0                genre_Pop  9052.0\n",
       "1                genre_Rap  5915.0\n",
       "2               genre_Rock  5887.0\n",
       "3            genre_Hip-Hop  4891.0\n",
       "4              genre_Dance  4418.0\n",
       "5              genre_Indie  3538.0\n",
       "6   genre_Children’s Music  3405.0\n",
       "7        genre_Alternative  3405.0\n",
       "8              genre_Blues  3405.0\n",
       "9              genre_Anime  3405.0\n",
       "10               genre_R&B  2624.0\n",
       "11              genre_Folk  1884.0\n",
       "12              genre_Soul  1389.0\n",
       "13           genre_Country  1198.0\n",
       "14         genre_Reggaeton   912.0\n",
       "15              genre_Jazz   461.0\n",
       "16        genre_Electronic   389.0\n",
       "17            genre_Reggae   359.0\n",
       "18               genre_Ska   135.0\n",
       "19        genre_Soundtrack   123.0\n",
       "20         genre_Classical   102.0\n",
       "21             genre_Movie    72.0\n",
       "22             genre_Opera     3.0\n",
       "23            genre_Comedy     1.0\n",
       "24         genre_A Capella     0.0"
      ]
     },
     "execution_count": 15,
     "metadata": {},
     "output_type": "execute_result"
    }
   ],
   "source": [
    "#verificar el recuento de ocurrencias de género para canciones populares\n",
    "popular_gnre = popular_gnre.iloc[:, 11:36].agg('sum').sort_values(ascending=False).reset_index()\n",
    "popular_gnre.columns = ['genre', 'count']\n",
    "popular_gnre"
   ]
  },
  {
   "cell_type": "markdown",
   "id": "59528182-c453-47d8-88b0-505790d38cf6",
   "metadata": {},
   "source": [
    "## Modelo Regresión Logistica\n",
    "\n",
    "Modelo ajustado con los hiperparametros"
   ]
  },
  {
   "cell_type": "code",
   "execution_count": 16,
   "id": "3328be57-1579-484b-b008-1d0b24298e19",
   "metadata": {},
   "outputs": [
    {
     "name": "stdout",
     "output_type": "stream",
     "text": [
      "              precision    recall  f1-score   support\n",
      "\n",
      "           0       0.85      0.55      0.67     51306\n",
      "           1       0.35      0.71      0.46     17142\n",
      "\n",
      "    accuracy                           0.59     68448\n",
      "   macro avg       0.60      0.63      0.57     68448\n",
      "weighted avg       0.72      0.59      0.62     68448\n",
      "\n"
     ]
    }
   ],
   "source": [
    "clf_logreg = LogisticRegressionCV(cv=5, class_weight='balanced', Cs=1, \n",
    "                                          penalty='l2', solver='liblinear',\n",
    "                                          random_state=42)\n",
    "clf_logreg.fit(X_train,  y_train)\n",
    "pred = clf_logreg.predict(X_test)\n",
    "print(classification_report(y_test, pred))"
   ]
  },
  {
   "cell_type": "markdown",
   "id": "43004b8f-0f28-49ef-bab1-1b2fd1a6359d",
   "metadata": {},
   "source": [
    "**Métricas de rendimiento Regresión Logistica**"
   ]
  },
  {
   "cell_type": "code",
   "execution_count": 17,
   "id": "2d079419-304a-42c8-aa36-56980ffbcdb9",
   "metadata": {},
   "outputs": [
    {
     "name": "stdout",
     "output_type": "stream",
     "text": [
      "accuracy:0.5904774427302478\n",
      "Precision: 0.34518156226007335\n",
      "Recall: 0.7081437405203593\n",
      "AUC-RL: 0.6296536735580396\n"
     ]
    }
   ],
   "source": [
    "# Model Precision: what percentage of positive tuples are labeled as such?\n",
    "\n",
    "accuracyRL = metrics.accuracy_score(y_test, pred)\n",
    "print(\"accuracy:\" + str(accuracyRL))\n",
    "print(\"Precision:\", metrics.precision_score(y_test, pred))\n",
    "print(\"Recall:\", metrics.recall_score(y_test, pred))\n",
    "RL_AUC = roc_auc_score(y_test, pred) \n",
    "print(\"AUC-RL: \" + str(RL_AUC))"
   ]
  },
  {
   "cell_type": "code",
   "execution_count": 18,
   "id": "e6524206-beeb-4785-98d1-990f957aa9cd",
   "metadata": {},
   "outputs": [
    {
     "data": {
      "image/png": "[encoded data removed]",
      "text/plain": [
       "<Figure size 432x288 with 2 Axes>"
      ]
     },
     "metadata": {
      "needs_background": "light"
     },
     "output_type": "display_data"
    }
   ],
   "source": [
    "#Matrix de consufion\n",
    "confusion_matrix = pd.crosstab(y_test, pred, rownames=['Actual'], colnames=['Predicted'])\n",
    "sns.heatmap(confusion_matrix, annot=True)\n",
    "plt.show()"
   ]
  },
  {
   "cell_type": "code",
   "execution_count": 19,
   "id": "6f181b72-14cb-44a3-9728-1c63f9edfcb0",
   "metadata": {},
   "outputs": [
    {
     "name": "stdout",
     "output_type": "stream",
     "text": [
      "Predicted      0      1\n",
      "Actual                 \n",
      "0          28278  23028\n",
      "1           5003  12139\n"
     ]
    }
   ],
   "source": [
    "print(confusion_matrix)"
   ]
  },
  {
   "cell_type": "markdown",
   "id": "8064c635-b18a-42c4-8938-252324e3646e",
   "metadata": {},
   "source": [
    "## Modelo XGBoost"
   ]
  },
  {
   "cell_type": "code",
   "execution_count": 20,
   "id": "bc7cc351-fa0c-41e8-abff-6d642b597ede",
   "metadata": {},
   "outputs": [
    {
     "name": "stderr",
     "output_type": "stream",
     "text": [
      "C:\\Python310\\lib\\site-packages\\xgboost\\sklearn.py:1224: UserWarning: The use of label encoder in XGBClassifier is deprecated and will be removed in a future release. To remove this warning, do the following: 1) Pass option use_label_encoder=False when constructing XGBClassifier object; and 2) Encode your labels (y) as integers starting with 0, i.e. 0, 1, 2, ..., [num_class - 1].\n",
      "  warnings.warn(label_encoder_deprecation_msg, UserWarning)\n"
     ]
    },
    {
     "name": "stdout",
     "output_type": "stream",
     "text": [
      "[12:44:27] WARNING: C:/Users/Administrator/workspace/xgboost-win64_release_1.5.1/src/learner.cc:1115: Starting in XGBoost 1.3.0, the default evaluation metric used with the objective 'binary:logistic' was changed from 'error' to 'logloss'. Explicitly set eval_metric if you'd like to restore the old behavior.\n",
      "              precision    recall  f1-score   support\n",
      "\n",
      "           0       0.85      0.94      0.89     51306\n",
      "           1       0.73      0.50      0.60     17142\n",
      "\n",
      "    accuracy                           0.83     68448\n",
      "   macro avg       0.79      0.72      0.74     68448\n",
      "weighted avg       0.82      0.83      0.82     68448\n",
      "\n"
     ]
    }
   ],
   "source": [
    "clf_xgb = XGBClassifier(learning_rate=0.1, max_depth=10, \n",
    "                              random_state=42)\n",
    "clf_xgb.fit(X_train, y_train)\n",
    "pred = clf_xgb.predict(X_test)\n",
    "print(classification_report(y_test, pred))"
   ]
  },
  {
   "cell_type": "markdown",
   "id": "feea5391-7af8-4e9b-bd36-c9ddd951da98",
   "metadata": {},
   "source": [
    "**Métricas de rendimiento XGBoost**"
   ]
  },
  {
   "cell_type": "code",
   "execution_count": 21,
   "id": "14233f61-178c-4c8e-8926-f1f43f0e5ae7",
   "metadata": {},
   "outputs": [
    {
     "name": "stdout",
     "output_type": "stream",
     "text": [
      "accuracy:0.8298416316035531\n",
      "Precision: 0.7327009401202677\n",
      "Recall: 0.5046669000116673\n",
      "AUC-XG: 0.7215768133551494\n"
     ]
    }
   ],
   "source": [
    "# Model Precision: what percentage of positive tuples are labeled as such?\n",
    "accuracyXG = metrics.accuracy_score(y_test, pred)\n",
    "print(\"accuracy:\" + str(accuracyXG))\n",
    "print(\"Precision:\", metrics.precision_score(y_test, pred))\n",
    "print(\"Recall:\", metrics.recall_score(y_test, pred))\n",
    "XG_AUC = roc_auc_score(y_test, pred) \n",
    "print(\"AUC-XG: \" + str(XG_AUC))"
   ]
  },
  {
   "cell_type": "code",
   "execution_count": 22,
   "id": "06543aa6-44e7-4834-a436-322bb15768f1",
   "metadata": {},
   "outputs": [
    {
     "data": {
      "image/png": "[encoded data removed]",
      "text/plain": [
       "<Figure size 432x288 with 2 Axes>"
      ]
     },
     "metadata": {
      "needs_background": "light"
     },
     "output_type": "display_data"
    }
   ],
   "source": [
    "#Matrix de consufion\n",
    "confusion_matrix = pd.crosstab(y_test, pred, rownames=['Actual'], colnames=['Predicted'])\n",
    "sns.heatmap(confusion_matrix, annot=True)\n",
    "plt.show()"
   ]
  },
  {
   "cell_type": "code",
   "execution_count": 23,
   "id": "2ef05cf7-7eb6-4065-9e51-4f8fc14e52c2",
   "metadata": {},
   "outputs": [
    {
     "name": "stdout",
     "output_type": "stream",
     "text": [
      "Predicted      0     1\n",
      "Actual                \n",
      "0          48150  3156\n",
      "1           8491  8651\n"
     ]
    }
   ],
   "source": [
    "print(confusion_matrix)"
   ]
  },
  {
   "cell_type": "markdown",
   "id": "2b460e0d-61cb-41d0-bb0f-afb2f5dc86bb",
   "metadata": {},
   "source": [
    "## Comparación Modelos\n",
    "\n",
    "Se compara el accuracy obtenido de los modelos implementados, Random Forest, Regresión Logistica y XGBoost"
   ]
  },
  {
   "cell_type": "code",
   "execution_count": 24,
   "id": "1f822e5f-da18-4cb7-864b-0bca3a7f8352",
   "metadata": {},
   "outputs": [
    {
     "data": {
      "image/png": "[encoded data removed]",
      "text/plain": [
       "<Figure size 432x288 with 1 Axes>"
      ]
     },
     "metadata": {
      "needs_background": "light"
     },
     "output_type": "display_data"
    }
   ],
   "source": [
    "plt.figure(figsize=(6,4))\n",
    "y = np.array([accuracyRF, accuracyRL, accuracyXG])\n",
    "x = [\"RandomForest\",\"LogisticRegression\",\"XGBoost\"]\n",
    "plt.bar(x,y, color=['c', 'g', 'b'])\n",
    "plt.title(\"Comparación del accuracy de los modelos\")\n",
    "plt.ylabel(\"Accuracy\")\n",
    "plt.show()"
   ]
  },
  {
   "cell_type": "markdown",
   "id": "09409ad1-aff9-4223-8278-c279f292867a",
   "metadata": {},
   "source": [
    "Se compara el AUC obtenido en los modelos implementados, de esta manera observar el rendimiento del modelo correspondiente. "
   ]
  },
  {
   "cell_type": "code",
   "execution_count": 25,
   "id": "8a4ffe80-5b92-4ca8-b95c-dc71a6d803c8",
   "metadata": {},
   "outputs": [
    {
     "data": {
      "image/png": "[encoded data removed]",
      "text/plain": [
       "<Figure size 432x288 with 1 Axes>"
      ]
     },
     "metadata": {
      "needs_background": "light"
     },
     "output_type": "display_data"
    }
   ],
   "source": [
    "plt.figure(figsize=(6,4))\n",
    "y = np.array([RFC_AUC, RL_AUC, XG_AUC])\n",
    "x = [\"RandomForest\",\"LogisticRegression\",\"XGBoost\"]\n",
    "plt.bar(x,y, color=['c', 'g', 'b'])\n",
    "plt.title(\"Comparación de AUC de los modelos\")\n",
    "plt.ylabel(\"AUC\")\n",
    "plt.show()"
   ]
  },
  {
   "cell_type": "code",
   "execution_count": null,
   "id": "2eb60f35-e517-4595-867e-7aba09c3af3c",
   "metadata": {},
   "outputs": [],
   "source": []
  }
 ],
 "metadata": {
  "kernelspec": {
   "display_name": "Python 3 (ipykernel)",
   "language": "python",
   "name": "python3"
  },
  "language_info": {
   "codemirror_mode": {
    "name": "ipython",
    "version": 3
   },
   "file_extension": ".py",
   "mimetype": "text/x-python",
   "name": "python",
   "nbconvert_exporter": "python",
   "pygments_lexer": "ipython3",
   "version": "3.10.0"
  }
 },
 "nbformat": 4,
 "nbformat_minor": 5
}
